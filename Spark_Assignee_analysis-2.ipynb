{
 "cells": [
  {
   "cell_type": "markdown",
   "metadata": {
    "id": "pJMouZcaUhb9"
   },
   "source": [
    "# Data processing for analysis\n"
   ]
  },
  {
   "cell_type": "code",
   "execution_count": 36,
   "metadata": {},
   "outputs": [
    {
     "name": "stderr",
     "output_type": "stream",
     "text": [
      "/share/pkg.7/python3/3.8.10/install/lib/python3.8/site-packages/IPython/core/interactiveshell.py:3169: DtypeWarning: Columns (3) have mixed types.Specify dtype option on import or set low_memory=False.\n",
      "  has_raised = await self.run_ast_nodes(code_ast.body, cell_name,\n"
     ]
    }
   ],
   "source": [
    "\n",
    "import pandas as pd\n",
    "df_assignor = pd.read_csv('assignor.csv')\n",
    "df_assignor= df_assignor[['rf_id','exec_dt']]"
   ]
  },
  {
   "cell_type": "code",
   "execution_count": 37,
   "metadata": {},
   "outputs": [
    {
     "name": "stderr",
     "output_type": "stream",
     "text": [
      "/share/pkg.7/python3/3.8.10/install/lib/python3.8/site-packages/IPython/core/interactiveshell.py:3169: DtypeWarning: Columns (6) have mixed types.Specify dtype option on import or set low_memory=False.\n",
      "  has_raised = await self.run_ast_nodes(code_ast.body, cell_name,\n"
     ]
    }
   ],
   "source": [
    "df_assignment = pd.read_csv('assignment.csv')"
   ]
  },
  {
   "cell_type": "code",
   "execution_count": 38,
   "metadata": {},
   "outputs": [],
   "source": [
    "df_assignee =pd.read_csv('assignee.csv')\n",
    "df_assignee= df_assignee[['ee_name','rf_id']]\n"
   ]
  },
  {
   "cell_type": "code",
   "execution_count": 39,
   "metadata": {},
   "outputs": [],
   "source": [
    "df_inventors = pd.read_csv('inventors_full_with_gender.csv')"
   ]
  },
  {
   "cell_type": "code",
   "execution_count": 40,
   "metadata": {},
   "outputs": [],
   "source": [
    "df_inventors = df_inventors[[\"application_number\", \"gender\"]]"
   ]
  },
  {
   "cell_type": "code",
   "execution_count": 41,
   "metadata": {},
   "outputs": [],
   "source": [
    "df_analysis= df_inventors.join(df_assignee, on=None, how='left')"
   ]
  },
  {
   "cell_type": "code",
   "execution_count": 42,
   "metadata": {},
   "outputs": [],
   "source": [
    "df_final_=df_analysis.merge(df_assignor, how = 'left')"
   ]
  },
  {
   "cell_type": "code",
   "execution_count": 43,
   "metadata": {},
   "outputs": [
    {
     "data": {
      "text/html": [
       "<div>\n",
       "<style scoped>\n",
       "    .dataframe tbody tr th:only-of-type {\n",
       "        vertical-align: middle;\n",
       "    }\n",
       "\n",
       "    .dataframe tbody tr th {\n",
       "        vertical-align: top;\n",
       "    }\n",
       "\n",
       "    .dataframe thead th {\n",
       "        text-align: right;\n",
       "    }\n",
       "</style>\n",
       "<table border=\"1\" class=\"dataframe\">\n",
       "  <thead>\n",
       "    <tr style=\"text-align: right;\">\n",
       "      <th></th>\n",
       "      <th>application_number</th>\n",
       "      <th>gender</th>\n",
       "      <th>ee_name</th>\n",
       "      <th>rf_id</th>\n",
       "      <th>exec_dt</th>\n",
       "    </tr>\n",
       "  </thead>\n",
       "  <tbody>\n",
       "    <tr>\n",
       "      <th>0</th>\n",
       "      <td>09647774</td>\n",
       "      <td>male</td>\n",
       "      <td>CHILDREN'S MEDICAL CENTER CORPORATION</td>\n",
       "      <td>12800340.0</td>\n",
       "      <td>1994-12-22</td>\n",
       "    </tr>\n",
       "    <tr>\n",
       "      <th>1</th>\n",
       "      <td>09647774</td>\n",
       "      <td>unknown</td>\n",
       "      <td>NORTHERN TELECOM LIMITED</td>\n",
       "      <td>36250888.0</td>\n",
       "      <td>1976-03-01</td>\n",
       "    </tr>\n",
       "    <tr>\n",
       "      <th>2</th>\n",
       "      <td>09647774</td>\n",
       "      <td>male</td>\n",
       "      <td>PARADYNE CORPORATION</td>\n",
       "      <td>36340874.0</td>\n",
       "      <td>1979-02-23</td>\n",
       "    </tr>\n",
       "    <tr>\n",
       "      <th>3</th>\n",
       "      <td>09647774</td>\n",
       "      <td>male</td>\n",
       "      <td>PARADYNE CORPORATION</td>\n",
       "      <td>36340875.0</td>\n",
       "      <td>1979-02-23</td>\n",
       "    </tr>\n",
       "    <tr>\n",
       "      <th>4</th>\n",
       "      <td>29116313</td>\n",
       "      <td>male</td>\n",
       "      <td>EHD, INC.</td>\n",
       "      <td>36920537.0</td>\n",
       "      <td>1978-10-31</td>\n",
       "    </tr>\n",
       "    <tr>\n",
       "      <th>...</th>\n",
       "      <td>...</td>\n",
       "      <td>...</td>\n",
       "      <td>...</td>\n",
       "      <td>...</td>\n",
       "      <td>...</td>\n",
       "    </tr>\n",
       "    <tr>\n",
       "      <th>25697415</th>\n",
       "      <td>17257528</td>\n",
       "      <td>male</td>\n",
       "      <td>NaN</td>\n",
       "      <td>NaN</td>\n",
       "      <td>NaN</td>\n",
       "    </tr>\n",
       "    <tr>\n",
       "      <th>25697416</th>\n",
       "      <td>17257528</td>\n",
       "      <td>andy</td>\n",
       "      <td>NaN</td>\n",
       "      <td>NaN</td>\n",
       "      <td>NaN</td>\n",
       "    </tr>\n",
       "    <tr>\n",
       "      <th>25697417</th>\n",
       "      <td>17257528</td>\n",
       "      <td>andy</td>\n",
       "      <td>NaN</td>\n",
       "      <td>NaN</td>\n",
       "      <td>NaN</td>\n",
       "    </tr>\n",
       "    <tr>\n",
       "      <th>25697418</th>\n",
       "      <td>17257528</td>\n",
       "      <td>andy</td>\n",
       "      <td>NaN</td>\n",
       "      <td>NaN</td>\n",
       "      <td>NaN</td>\n",
       "    </tr>\n",
       "    <tr>\n",
       "      <th>25697419</th>\n",
       "      <td>17257528</td>\n",
       "      <td>andy</td>\n",
       "      <td>NaN</td>\n",
       "      <td>NaN</td>\n",
       "      <td>NaN</td>\n",
       "    </tr>\n",
       "  </tbody>\n",
       "</table>\n",
       "<p>25697420 rows × 5 columns</p>\n",
       "</div>"
      ],
      "text/plain": [
       "         application_number   gender                                ee_name  \\\n",
       "0                  09647774     male  CHILDREN'S MEDICAL CENTER CORPORATION   \n",
       "1                  09647774  unknown               NORTHERN TELECOM LIMITED   \n",
       "2                  09647774     male                   PARADYNE CORPORATION   \n",
       "3                  09647774     male                   PARADYNE CORPORATION   \n",
       "4                  29116313     male                              EHD, INC.   \n",
       "...                     ...      ...                                    ...   \n",
       "25697415           17257528     male                                    NaN   \n",
       "25697416           17257528     andy                                    NaN   \n",
       "25697417           17257528     andy                                    NaN   \n",
       "25697418           17257528     andy                                    NaN   \n",
       "25697419           17257528     andy                                    NaN   \n",
       "\n",
       "               rf_id     exec_dt  \n",
       "0         12800340.0  1994-12-22  \n",
       "1         36250888.0  1976-03-01  \n",
       "2         36340874.0  1979-02-23  \n",
       "3         36340875.0  1979-02-23  \n",
       "4         36920537.0  1978-10-31  \n",
       "...              ...         ...  \n",
       "25697415         NaN         NaN  \n",
       "25697416         NaN         NaN  \n",
       "25697417         NaN         NaN  \n",
       "25697418         NaN         NaN  \n",
       "25697419         NaN         NaN  \n",
       "\n",
       "[25697420 rows x 5 columns]"
      ]
     },
     "execution_count": 43,
     "metadata": {},
     "output_type": "execute_result"
    }
   ],
   "source": [
    "df_final_"
   ]
  },
  {
   "cell_type": "code",
   "execution_count": 44,
   "metadata": {},
   "outputs": [],
   "source": [
    "import numpy as np\n",
    "count= np.ones(25697420)"
   ]
  },
  {
   "cell_type": "code",
   "execution_count": 45,
   "metadata": {},
   "outputs": [],
   "source": [
    "df_final_['count'] = count"
   ]
  },
  {
   "cell_type": "code",
   "execution_count": 46,
   "metadata": {
    "id": "Rek-xceWf9Br"
   },
   "outputs": [
    {
     "data": {
      "text/plain": [
       "application_number    25697420\n",
       "gender                25104398\n",
       "ee_name                 600514\n",
       "rf_id                   600514\n",
       "exec_dt                 596158\n",
       "count                 25697420\n",
       "dtype: int64"
      ]
     },
     "execution_count": 46,
     "metadata": {},
     "output_type": "execute_result"
    }
   ],
   "source": [
    "df_final_.count()"
   ]
  },
  {
   "cell_type": "code",
   "execution_count": 47,
   "metadata": {
    "id": "txcce9Vlf9WD"
   },
   "outputs": [],
   "source": [
    "dict_male = {}\n",
    "dict_female = {}\n",
    "dict_unknown={}"
   ]
  },
  {
   "cell_type": "code",
   "execution_count": 48,
   "metadata": {},
   "outputs": [
    {
     "data": {
      "text/html": [
       "<div>\n",
       "<style scoped>\n",
       "    .dataframe tbody tr th:only-of-type {\n",
       "        vertical-align: middle;\n",
       "    }\n",
       "\n",
       "    .dataframe tbody tr th {\n",
       "        vertical-align: top;\n",
       "    }\n",
       "\n",
       "    .dataframe thead th {\n",
       "        text-align: right;\n",
       "    }\n",
       "</style>\n",
       "<table border=\"1\" class=\"dataframe\">\n",
       "  <thead>\n",
       "    <tr style=\"text-align: right;\">\n",
       "      <th></th>\n",
       "      <th>application_number</th>\n",
       "      <th>gender</th>\n",
       "      <th>ee_name</th>\n",
       "      <th>rf_id</th>\n",
       "      <th>exec_dt</th>\n",
       "      <th>count</th>\n",
       "    </tr>\n",
       "  </thead>\n",
       "  <tbody>\n",
       "    <tr>\n",
       "      <th>0</th>\n",
       "      <td>09647774</td>\n",
       "      <td>male</td>\n",
       "      <td>CHILDREN'S MEDICAL CENTER CORPORATION</td>\n",
       "      <td>12800340.0</td>\n",
       "      <td>1994-12-22</td>\n",
       "      <td>1.0</td>\n",
       "    </tr>\n",
       "    <tr>\n",
       "      <th>1</th>\n",
       "      <td>09647774</td>\n",
       "      <td>unknown</td>\n",
       "      <td>NORTHERN TELECOM LIMITED</td>\n",
       "      <td>36250888.0</td>\n",
       "      <td>1976-03-01</td>\n",
       "      <td>1.0</td>\n",
       "    </tr>\n",
       "    <tr>\n",
       "      <th>2</th>\n",
       "      <td>09647774</td>\n",
       "      <td>male</td>\n",
       "      <td>PARADYNE CORPORATION</td>\n",
       "      <td>36340874.0</td>\n",
       "      <td>1979-02-23</td>\n",
       "      <td>1.0</td>\n",
       "    </tr>\n",
       "    <tr>\n",
       "      <th>3</th>\n",
       "      <td>09647774</td>\n",
       "      <td>male</td>\n",
       "      <td>PARADYNE CORPORATION</td>\n",
       "      <td>36340875.0</td>\n",
       "      <td>1979-02-23</td>\n",
       "      <td>1.0</td>\n",
       "    </tr>\n",
       "    <tr>\n",
       "      <th>4</th>\n",
       "      <td>29116313</td>\n",
       "      <td>male</td>\n",
       "      <td>EHD, INC.</td>\n",
       "      <td>36920537.0</td>\n",
       "      <td>1978-10-31</td>\n",
       "      <td>1.0</td>\n",
       "    </tr>\n",
       "    <tr>\n",
       "      <th>...</th>\n",
       "      <td>...</td>\n",
       "      <td>...</td>\n",
       "      <td>...</td>\n",
       "      <td>...</td>\n",
       "      <td>...</td>\n",
       "      <td>...</td>\n",
       "    </tr>\n",
       "    <tr>\n",
       "      <th>25697415</th>\n",
       "      <td>17257528</td>\n",
       "      <td>male</td>\n",
       "      <td>NaN</td>\n",
       "      <td>NaN</td>\n",
       "      <td>NaN</td>\n",
       "      <td>1.0</td>\n",
       "    </tr>\n",
       "    <tr>\n",
       "      <th>25697416</th>\n",
       "      <td>17257528</td>\n",
       "      <td>andy</td>\n",
       "      <td>NaN</td>\n",
       "      <td>NaN</td>\n",
       "      <td>NaN</td>\n",
       "      <td>1.0</td>\n",
       "    </tr>\n",
       "    <tr>\n",
       "      <th>25697417</th>\n",
       "      <td>17257528</td>\n",
       "      <td>andy</td>\n",
       "      <td>NaN</td>\n",
       "      <td>NaN</td>\n",
       "      <td>NaN</td>\n",
       "      <td>1.0</td>\n",
       "    </tr>\n",
       "    <tr>\n",
       "      <th>25697418</th>\n",
       "      <td>17257528</td>\n",
       "      <td>andy</td>\n",
       "      <td>NaN</td>\n",
       "      <td>NaN</td>\n",
       "      <td>NaN</td>\n",
       "      <td>1.0</td>\n",
       "    </tr>\n",
       "    <tr>\n",
       "      <th>25697419</th>\n",
       "      <td>17257528</td>\n",
       "      <td>andy</td>\n",
       "      <td>NaN</td>\n",
       "      <td>NaN</td>\n",
       "      <td>NaN</td>\n",
       "      <td>1.0</td>\n",
       "    </tr>\n",
       "  </tbody>\n",
       "</table>\n",
       "<p>25697420 rows × 6 columns</p>\n",
       "</div>"
      ],
      "text/plain": [
       "         application_number   gender                                ee_name  \\\n",
       "0                  09647774     male  CHILDREN'S MEDICAL CENTER CORPORATION   \n",
       "1                  09647774  unknown               NORTHERN TELECOM LIMITED   \n",
       "2                  09647774     male                   PARADYNE CORPORATION   \n",
       "3                  09647774     male                   PARADYNE CORPORATION   \n",
       "4                  29116313     male                              EHD, INC.   \n",
       "...                     ...      ...                                    ...   \n",
       "25697415           17257528     male                                    NaN   \n",
       "25697416           17257528     andy                                    NaN   \n",
       "25697417           17257528     andy                                    NaN   \n",
       "25697418           17257528     andy                                    NaN   \n",
       "25697419           17257528     andy                                    NaN   \n",
       "\n",
       "               rf_id     exec_dt  count  \n",
       "0         12800340.0  1994-12-22    1.0  \n",
       "1         36250888.0  1976-03-01    1.0  \n",
       "2         36340874.0  1979-02-23    1.0  \n",
       "3         36340875.0  1979-02-23    1.0  \n",
       "4         36920537.0  1978-10-31    1.0  \n",
       "...              ...         ...    ...  \n",
       "25697415         NaN         NaN    1.0  \n",
       "25697416         NaN         NaN    1.0  \n",
       "25697417         NaN         NaN    1.0  \n",
       "25697418         NaN         NaN    1.0  \n",
       "25697419         NaN         NaN    1.0  \n",
       "\n",
       "[25697420 rows x 6 columns]"
      ]
     },
     "execution_count": 48,
     "metadata": {},
     "output_type": "execute_result"
    }
   ],
   "source": [
    "df_test=df_final_[:25697420]\n",
    "df_test"
   ]
  },
  {
   "cell_type": "code",
   "execution_count": 49,
   "metadata": {},
   "outputs": [],
   "source": [
    "df_male = df_test[df_test['gender']=='male']\n",
    "df_female = df_test[df_test['gender']=='female']\n",
    "df_unknown = df_test[df_test['gender']=='unknown']"
   ]
  },
  {
   "cell_type": "code",
   "execution_count": 50,
   "metadata": {},
   "outputs": [
    {
     "data": {
      "text/html": [
       "<div>\n",
       "<style scoped>\n",
       "    .dataframe tbody tr th:only-of-type {\n",
       "        vertical-align: middle;\n",
       "    }\n",
       "\n",
       "    .dataframe tbody tr th {\n",
       "        vertical-align: top;\n",
       "    }\n",
       "\n",
       "    .dataframe thead th {\n",
       "        text-align: right;\n",
       "    }\n",
       "</style>\n",
       "<table border=\"1\" class=\"dataframe\">\n",
       "  <thead>\n",
       "    <tr style=\"text-align: right;\">\n",
       "      <th></th>\n",
       "      <th>application_number</th>\n",
       "      <th>gender</th>\n",
       "      <th>ee_name</th>\n",
       "      <th>rf_id</th>\n",
       "      <th>exec_dt</th>\n",
       "      <th>count</th>\n",
       "    </tr>\n",
       "  </thead>\n",
       "  <tbody>\n",
       "    <tr>\n",
       "      <th>1</th>\n",
       "      <td>09647774</td>\n",
       "      <td>unknown</td>\n",
       "      <td>NORTHERN TELECOM LIMITED</td>\n",
       "      <td>36250888.0</td>\n",
       "      <td>1976-03-01</td>\n",
       "      <td>1.0</td>\n",
       "    </tr>\n",
       "    <tr>\n",
       "      <th>51</th>\n",
       "      <td>09622257</td>\n",
       "      <td>unknown</td>\n",
       "      <td>KINGLOR METOR S.P.A.  A CORP. OF ITALY</td>\n",
       "      <td>37880701.0</td>\n",
       "      <td>1978-11-02</td>\n",
       "      <td>1.0</td>\n",
       "    </tr>\n",
       "    <tr>\n",
       "      <th>54</th>\n",
       "      <td>09402687</td>\n",
       "      <td>unknown</td>\n",
       "      <td>BUNZL &amp; BIACH AKTIENGESELLSCHAFT</td>\n",
       "      <td>37880706.0</td>\n",
       "      <td>1980-07-15</td>\n",
       "      <td>1.0</td>\n",
       "    </tr>\n",
       "    <tr>\n",
       "      <th>76</th>\n",
       "      <td>09424281</td>\n",
       "      <td>unknown</td>\n",
       "      <td>RUBERY OWEN FASTENERS LIMITED FOSTER STREET, D...</td>\n",
       "      <td>37880719.0</td>\n",
       "      <td>NaN</td>\n",
       "      <td>1.0</td>\n",
       "    </tr>\n",
       "    <tr>\n",
       "      <th>77</th>\n",
       "      <td>09424281</td>\n",
       "      <td>unknown</td>\n",
       "      <td>RUBERY OWEN FASTENERS LIMITED FOSTER STREET, D...</td>\n",
       "      <td>37880719.0</td>\n",
       "      <td>NaN</td>\n",
       "      <td>1.0</td>\n",
       "    </tr>\n",
       "    <tr>\n",
       "      <th>...</th>\n",
       "      <td>...</td>\n",
       "      <td>...</td>\n",
       "      <td>...</td>\n",
       "      <td>...</td>\n",
       "      <td>...</td>\n",
       "      <td>...</td>\n",
       "    </tr>\n",
       "    <tr>\n",
       "      <th>25697355</th>\n",
       "      <td>17257470</td>\n",
       "      <td>unknown</td>\n",
       "      <td>NaN</td>\n",
       "      <td>NaN</td>\n",
       "      <td>NaN</td>\n",
       "      <td>1.0</td>\n",
       "    </tr>\n",
       "    <tr>\n",
       "      <th>25697369</th>\n",
       "      <td>17257365</td>\n",
       "      <td>unknown</td>\n",
       "      <td>NaN</td>\n",
       "      <td>NaN</td>\n",
       "      <td>NaN</td>\n",
       "      <td>1.0</td>\n",
       "    </tr>\n",
       "    <tr>\n",
       "      <th>25697383</th>\n",
       "      <td>17257354</td>\n",
       "      <td>unknown</td>\n",
       "      <td>NaN</td>\n",
       "      <td>NaN</td>\n",
       "      <td>NaN</td>\n",
       "      <td>1.0</td>\n",
       "    </tr>\n",
       "    <tr>\n",
       "      <th>25697395</th>\n",
       "      <td>17257315</td>\n",
       "      <td>unknown</td>\n",
       "      <td>NaN</td>\n",
       "      <td>NaN</td>\n",
       "      <td>NaN</td>\n",
       "      <td>1.0</td>\n",
       "    </tr>\n",
       "    <tr>\n",
       "      <th>25697399</th>\n",
       "      <td>17257310</td>\n",
       "      <td>unknown</td>\n",
       "      <td>NaN</td>\n",
       "      <td>NaN</td>\n",
       "      <td>NaN</td>\n",
       "      <td>1.0</td>\n",
       "    </tr>\n",
       "  </tbody>\n",
       "</table>\n",
       "<p>2475345 rows × 6 columns</p>\n",
       "</div>"
      ],
      "text/plain": [
       "         application_number   gender  \\\n",
       "1                  09647774  unknown   \n",
       "51                 09622257  unknown   \n",
       "54                 09402687  unknown   \n",
       "76                 09424281  unknown   \n",
       "77                 09424281  unknown   \n",
       "...                     ...      ...   \n",
       "25697355           17257470  unknown   \n",
       "25697369           17257365  unknown   \n",
       "25697383           17257354  unknown   \n",
       "25697395           17257315  unknown   \n",
       "25697399           17257310  unknown   \n",
       "\n",
       "                                                    ee_name       rf_id  \\\n",
       "1                                  NORTHERN TELECOM LIMITED  36250888.0   \n",
       "51                   KINGLOR METOR S.P.A.  A CORP. OF ITALY  37880701.0   \n",
       "54                         BUNZL & BIACH AKTIENGESELLSCHAFT  37880706.0   \n",
       "76        RUBERY OWEN FASTENERS LIMITED FOSTER STREET, D...  37880719.0   \n",
       "77        RUBERY OWEN FASTENERS LIMITED FOSTER STREET, D...  37880719.0   \n",
       "...                                                     ...         ...   \n",
       "25697355                                                NaN         NaN   \n",
       "25697369                                                NaN         NaN   \n",
       "25697383                                                NaN         NaN   \n",
       "25697395                                                NaN         NaN   \n",
       "25697399                                                NaN         NaN   \n",
       "\n",
       "             exec_dt  count  \n",
       "1         1976-03-01    1.0  \n",
       "51        1978-11-02    1.0  \n",
       "54        1980-07-15    1.0  \n",
       "76               NaN    1.0  \n",
       "77               NaN    1.0  \n",
       "...              ...    ...  \n",
       "25697355         NaN    1.0  \n",
       "25697369         NaN    1.0  \n",
       "25697383         NaN    1.0  \n",
       "25697395         NaN    1.0  \n",
       "25697399         NaN    1.0  \n",
       "\n",
       "[2475345 rows x 6 columns]"
      ]
     },
     "execution_count": 50,
     "metadata": {},
     "output_type": "execute_result"
    }
   ],
   "source": [
    "df_unknown"
   ]
  },
  {
   "cell_type": "markdown",
   "metadata": {},
   "source": [
    "# top 10 companies analysis\n"
   ]
  },
  {
   "cell_type": "code",
   "execution_count": 51,
   "metadata": {},
   "outputs": [],
   "source": [
    "temp= df_final_['ee_name'].value_counts()"
   ]
  },
  {
   "cell_type": "code",
   "execution_count": 52,
   "metadata": {},
   "outputs": [
    {
     "data": {
      "text/plain": [
       "Index(['HITACHI, LTD.', 'BASF AKTIENGESELLSCHAFT',\n",
       "       'INTERNATIONAL BUSINESS MACHINES CORPORATION',\n",
       "       'FUJI PHOTO FILM CO., LTD.', 'CANON KABUSHIKI KAISHA',\n",
       "       'MITSUBISHI DENKI KABUSHIKI KAISHA',\n",
       "       'TOKYO SHIBAURA DENKI KABUSHIKI KAISHA', 'BAYER AKTIENGESELLSCHAFT',\n",
       "       'HITACHI, LTD., A CORP. OF JAPAN',\n",
       "       'MATSUSHITA ELECTRIC INDUSTRIAL CO., LTD.', 'GENERAL ELECTRIC COMPANY',\n",
       "       'ROBERT BOSCH GMBH'],\n",
       "      dtype='object')"
      ]
     },
     "execution_count": 52,
     "metadata": {},
     "output_type": "execute_result"
    }
   ],
   "source": [
    "most_common = temp.nlargest(12)\n",
    "most_common.keys()"
   ]
  },
  {
   "cell_type": "code",
   "execution_count": 53,
   "metadata": {},
   "outputs": [],
   "source": [
    "dict_common = {}"
   ]
  },
  {
   "cell_type": "code",
   "execution_count": 54,
   "metadata": {},
   "outputs": [],
   "source": [
    "for company in most_common.keys():\n",
    "#     print(company)\n",
    "    male_count = df_final_[(df_final_['ee_name'] == company) & (df_final_['gender'] == 'male')]['gender'].count()\n",
    "    female_count = df_final_[(df_final_['ee_name'] == company) & (df_final_['gender'] == 'female')]['gender'].count()\n",
    "    unknown_count = df_final_[(df_final_['ee_name'] == company) & (df_final_['gender'] == 'unknown')]['gender'].count()\n",
    "    dict_common[company] = [male_count, female_count, unknown_count]"
   ]
  },
  {
   "cell_type": "code",
   "execution_count": 55,
   "metadata": {},
   "outputs": [
    {
     "data": {
      "text/plain": [
       "{'HITACHI, LTD.': [3595, 329, 302],\n",
       " 'BASF AKTIENGESELLSCHAFT': [2465, 215, 135],\n",
       " 'INTERNATIONAL BUSINESS MACHINES CORPORATION': [2075, 202, 135],\n",
       " 'FUJI PHOTO FILM CO., LTD.': [2049, 202, 133],\n",
       " 'CANON KABUSHIKI KAISHA': [1973, 155, 149],\n",
       " 'MITSUBISHI DENKI KABUSHIKI KAISHA': [1779, 166, 125],\n",
       " 'TOKYO SHIBAURA DENKI KABUSHIKI KAISHA': [1621, 148, 90],\n",
       " 'BAYER AKTIENGESELLSCHAFT': [1580, 139, 98],\n",
       " 'HITACHI, LTD., A CORP. OF JAPAN': [1576, 146, 88],\n",
       " 'MATSUSHITA ELECTRIC INDUSTRIAL CO., LTD.': [1496, 149, 105],\n",
       " 'GENERAL ELECTRIC COMPANY': [1260, 142, 95],\n",
       " 'ROBERT BOSCH GMBH': [1279, 102, 74]}"
      ]
     },
     "execution_count": 55,
     "metadata": {},
     "output_type": "execute_result"
    }
   ],
   "source": [
    "dict_common"
   ]
  },
  {
   "cell_type": "code",
   "execution_count": 56,
   "metadata": {},
   "outputs": [],
   "source": [
    "# unknowns_count = df_final_[(df_final_['ee_name'] == company) & (df_final_['gender'] == 'andy')]['gender'].count()\n",
    "dict_common[company] = [male_count, female_count, unknown_count]"
   ]
  },
  {
   "cell_type": "code",
   "execution_count": 57,
   "metadata": {},
   "outputs": [
    {
     "data": {
      "text/plain": [
       "{'HITACHI, LTD.': [3595, 329, 302],\n",
       " 'BASF AKTIENGESELLSCHAFT': [2465, 215, 135],\n",
       " 'INTERNATIONAL BUSINESS MACHINES CORPORATION': [2075, 202, 135],\n",
       " 'FUJI PHOTO FILM CO., LTD.': [2049, 202, 133],\n",
       " 'CANON KABUSHIKI KAISHA': [1973, 155, 149],\n",
       " 'MITSUBISHI DENKI KABUSHIKI KAISHA': [1779, 166, 125],\n",
       " 'TOKYO SHIBAURA DENKI KABUSHIKI KAISHA': [1621, 148, 90],\n",
       " 'BAYER AKTIENGESELLSCHAFT': [1580, 139, 98],\n",
       " 'HITACHI, LTD., A CORP. OF JAPAN': [1576, 146, 88],\n",
       " 'MATSUSHITA ELECTRIC INDUSTRIAL CO., LTD.': [1496, 149, 105],\n",
       " 'GENERAL ELECTRIC COMPANY': [1260, 142, 95],\n",
       " 'ROBERT BOSCH GMBH': [1279, 102, 74]}"
      ]
     },
     "execution_count": 57,
     "metadata": {},
     "output_type": "execute_result"
    }
   ],
   "source": [
    "dict_common"
   ]
  },
  {
   "cell_type": "code",
   "execution_count": 58,
   "metadata": {},
   "outputs": [
    {
     "data": {
      "text/html": [
       "<div>\n",
       "<style scoped>\n",
       "    .dataframe tbody tr th:only-of-type {\n",
       "        vertical-align: middle;\n",
       "    }\n",
       "\n",
       "    .dataframe tbody tr th {\n",
       "        vertical-align: top;\n",
       "    }\n",
       "\n",
       "    .dataframe thead th {\n",
       "        text-align: right;\n",
       "    }\n",
       "</style>\n",
       "<table border=\"1\" class=\"dataframe\">\n",
       "  <thead>\n",
       "    <tr style=\"text-align: right;\">\n",
       "      <th></th>\n",
       "      <th>HITACHI, LTD.</th>\n",
       "      <th>BASF AKTIENGESELLSCHAFT</th>\n",
       "      <th>INTERNATIONAL BUSINESS MACHINES CORPORATION</th>\n",
       "      <th>FUJI PHOTO FILM CO., LTD.</th>\n",
       "      <th>CANON KABUSHIKI KAISHA</th>\n",
       "      <th>MITSUBISHI DENKI KABUSHIKI KAISHA</th>\n",
       "      <th>TOKYO SHIBAURA DENKI KABUSHIKI KAISHA</th>\n",
       "      <th>BAYER AKTIENGESELLSCHAFT</th>\n",
       "      <th>HITACHI, LTD., A CORP. OF JAPAN</th>\n",
       "      <th>MATSUSHITA ELECTRIC INDUSTRIAL CO., LTD.</th>\n",
       "      <th>GENERAL ELECTRIC COMPANY</th>\n",
       "      <th>ROBERT BOSCH GMBH</th>\n",
       "    </tr>\n",
       "  </thead>\n",
       "  <tbody>\n",
       "    <tr>\n",
       "      <th>0</th>\n",
       "      <td>3595</td>\n",
       "      <td>2465</td>\n",
       "      <td>2075</td>\n",
       "      <td>2049</td>\n",
       "      <td>1973</td>\n",
       "      <td>1779</td>\n",
       "      <td>1621</td>\n",
       "      <td>1580</td>\n",
       "      <td>1576</td>\n",
       "      <td>1496</td>\n",
       "      <td>1260</td>\n",
       "      <td>1279</td>\n",
       "    </tr>\n",
       "    <tr>\n",
       "      <th>1</th>\n",
       "      <td>329</td>\n",
       "      <td>215</td>\n",
       "      <td>202</td>\n",
       "      <td>202</td>\n",
       "      <td>155</td>\n",
       "      <td>166</td>\n",
       "      <td>148</td>\n",
       "      <td>139</td>\n",
       "      <td>146</td>\n",
       "      <td>149</td>\n",
       "      <td>142</td>\n",
       "      <td>102</td>\n",
       "    </tr>\n",
       "    <tr>\n",
       "      <th>2</th>\n",
       "      <td>302</td>\n",
       "      <td>135</td>\n",
       "      <td>135</td>\n",
       "      <td>133</td>\n",
       "      <td>149</td>\n",
       "      <td>125</td>\n",
       "      <td>90</td>\n",
       "      <td>98</td>\n",
       "      <td>88</td>\n",
       "      <td>105</td>\n",
       "      <td>95</td>\n",
       "      <td>74</td>\n",
       "    </tr>\n",
       "  </tbody>\n",
       "</table>\n",
       "</div>"
      ],
      "text/plain": [
       "   HITACHI, LTD.  BASF AKTIENGESELLSCHAFT  \\\n",
       "0           3595                     2465   \n",
       "1            329                      215   \n",
       "2            302                      135   \n",
       "\n",
       "   INTERNATIONAL BUSINESS MACHINES CORPORATION  FUJI PHOTO FILM CO., LTD.  \\\n",
       "0                                         2075                       2049   \n",
       "1                                          202                        202   \n",
       "2                                          135                        133   \n",
       "\n",
       "   CANON KABUSHIKI KAISHA  MITSUBISHI DENKI KABUSHIKI KAISHA  \\\n",
       "0                    1973                               1779   \n",
       "1                     155                                166   \n",
       "2                     149                                125   \n",
       "\n",
       "   TOKYO SHIBAURA DENKI KABUSHIKI KAISHA  BAYER AKTIENGESELLSCHAFT  \\\n",
       "0                                   1621                      1580   \n",
       "1                                    148                       139   \n",
       "2                                     90                        98   \n",
       "\n",
       "   HITACHI, LTD., A CORP. OF JAPAN  MATSUSHITA ELECTRIC INDUSTRIAL CO., LTD.  \\\n",
       "0                             1576                                      1496   \n",
       "1                              146                                       149   \n",
       "2                               88                                       105   \n",
       "\n",
       "   GENERAL ELECTRIC COMPANY  ROBERT BOSCH GMBH  \n",
       "0                      1260               1279  \n",
       "1                       142                102  \n",
       "2                        95                 74  "
      ]
     },
     "execution_count": 58,
     "metadata": {},
     "output_type": "execute_result"
    }
   ],
   "source": [
    "df_dict = pd.DataFrame(dict_common)\n",
    "df_dict"
   ]
  },
  {
   "cell_type": "code",
   "execution_count": 59,
   "metadata": {},
   "outputs": [],
   "source": [
    "# Two Hitachi \n",
    "# Mitsubishi and Tokyo \n",
    "merge1 = (df_dict['HITACHI, LTD.'] + df_dict['HITACHI, LTD., A CORP. OF JAPAN']).to_list()\n",
    "merge2 = (df_dict['MITSUBISHI DENKI KABUSHIKI KAISHA'] + df_dict['TOKYO SHIBAURA DENKI KABUSHIKI KAISHA']).to_list()"
   ]
  },
  {
   "cell_type": "code",
   "execution_count": 60,
   "metadata": {},
   "outputs": [],
   "source": [
    "# Add to dictionary \n",
    "dict_common['HITACHI'] = merge1\n",
    "dict_common['MITSUBISHI'] = merge2"
   ]
  },
  {
   "cell_type": "code",
   "execution_count": 61,
   "metadata": {},
   "outputs": [
    {
     "data": {
      "text/plain": [
       "[5171, 475, 390]"
      ]
     },
     "execution_count": 61,
     "metadata": {},
     "output_type": "execute_result"
    }
   ],
   "source": [
    "merge1"
   ]
  },
  {
   "cell_type": "code",
   "execution_count": 62,
   "metadata": {},
   "outputs": [
    {
     "data": {
      "text/plain": [
       "[1621, 148, 90]"
      ]
     },
     "execution_count": 62,
     "metadata": {},
     "output_type": "execute_result"
    }
   ],
   "source": [
    "# Removing Keys\n",
    "dict_common.pop('HITACHI, LTD.', 'no key')\n",
    "dict_common.pop('HITACHI, LTD., A CORP. OF JAPAN', 'no key')\n",
    "dict_common.pop('MITSUBISHI DENKI KABUSHIKI KAISHA', 'no key')\n",
    "dict_common.pop('TOKYO SHIBAURA DENKI KABUSHIKI KAISHA', 'no key')"
   ]
  },
  {
   "cell_type": "code",
   "execution_count": 63,
   "metadata": {},
   "outputs": [
    {
     "data": {
      "text/plain": [
       "{'BASF AKTIENGESELLSCHAFT': [2465, 215, 135],\n",
       " 'INTERNATIONAL BUSINESS MACHINES CORPORATION': [2075, 202, 135],\n",
       " 'FUJI PHOTO FILM CO., LTD.': [2049, 202, 133],\n",
       " 'CANON KABUSHIKI KAISHA': [1973, 155, 149],\n",
       " 'BAYER AKTIENGESELLSCHAFT': [1580, 139, 98],\n",
       " 'MATSUSHITA ELECTRIC INDUSTRIAL CO., LTD.': [1496, 149, 105],\n",
       " 'GENERAL ELECTRIC COMPANY': [1260, 142, 95],\n",
       " 'ROBERT BOSCH GMBH': [1279, 102, 74],\n",
       " 'HITACHI': [5171, 475, 390],\n",
       " 'MITSUBISHI': [3400, 314, 215]}"
      ]
     },
     "execution_count": 63,
     "metadata": {},
     "output_type": "execute_result"
    }
   ],
   "source": [
    "dict_common"
   ]
  },
  {
   "cell_type": "code",
   "execution_count": 64,
   "metadata": {},
   "outputs": [
    {
     "data": {
      "image/png": "[encoded data removed]",
      "text/plain": [
       "<Figure size 432x288 with 1 Axes>"
      ]
     },
     "metadata": {
      "needs_background": "light"
     },
     "output_type": "display_data"
    }
   ],
   "source": [
    "import matplotlib.pyplot as plt\n",
    "male_values = [dict_common[key][0] for key in list(dict_common.keys())]\n",
    "female_values = [dict_common[key][1] for key in list(dict_common.keys())]\n",
    "unknown_values = [dict_common[key][2] for key in list(dict_common.keys())] \n",
    "\n",
    "fig= plt.figure()\n",
    "ax = fig.add_axes([0,0,1,1])\n",
    "ax1=ax.bar(list(dict_common.keys()), male_values, color = 'y', width = 0.25)\n",
    "ax2=ax.bar(list(dict_common.keys()), female_values, color = 'g', width = 0.25)\n",
    "ax3=ax.bar(list(dict_common.keys()), unknown_values, color = 'b', width = 0.25)\n",
    "plt.xticks(rotation=45,ha='right')\n",
    "plt.title(\"Top 10 companies with the most patents from 1970 to 2020\")\n",
    "plt.xlabel(\"Names of the Companies\")\n",
    "plt.ylabel(\"No. of males and females\")\n",
    "plt.legend([\"Male\", \"Female\", \"unknown\"])\n",
    "\n",
    "# for bar in ax1.patches:\n",
    "#     height = bar.get_height()\n",
    "#     width = bar.get_width()\n",
    "#     x = bar.get_x()\n",
    "#     y = bar.get_y()\n",
    "#     label_text = height\n",
    "#     label_x = x + width / 2\n",
    "#     label_y = y + height / 2\n",
    "#     ax.text(label_x, label_y, label_text, ha='center',va='center')\n",
    "    \n",
    "    \n",
    "# for bar2 in ax2.patches:\n",
    "#     height2 = bar2.get_height()\n",
    "#     width2 = bar2.get_width()\n",
    "#     x2 = bar2.get_x()\n",
    "#     y2 = bar2.get_y()\n",
    "#     label_text2 = height2\n",
    "#     label_x2 = x2 + width2 / 2\n",
    "#     label_y2 = y2 + height2 / 2\n",
    "#     ax.text(label_x2, label_y2, label_text2, ha='center',va='center')\n",
    "    \n",
    "    \n",
    "# for bar3 in ax3.patches:\n",
    "#     height3 = bar3.get_height()\n",
    "#     width3 = bar3.get_width()\n",
    "#     x3 = bar3.get_x()\n",
    "#     y3 = bar3.get_y()\n",
    "#     label_text3 = height3\n",
    "#     label_x3 = x3 + width3/2 \n",
    "#     label_y3 = y3 + height3/2\n",
    "#     ax.text(label_x3, label_y3, label_text3, ha='center',va='center')\n",
    "\n",
    "\n",
    "plt.show()"
   ]
  },
  {
   "cell_type": "markdown",
   "metadata": {},
   "source": [
    "# Gender distribution"
   ]
  },
  {
   "cell_type": "code",
   "execution_count": 65,
   "metadata": {},
   "outputs": [
    {
     "name": "stdout",
     "output_type": "stream",
     "text": [
      "[2465, 2075, 2049, 1973, 1580, 1496, 1260, 1279, 5171, 3400]\n",
      "[215, 202, 202, 155, 139, 149, 142, 102, 475, 314]\n",
      "[135, 135, 133, 149, 98, 105, 95, 74, 390, 215]\n"
     ]
    }
   ],
   "source": [
    "print(male_values)\n",
    "print(female_values)\n",
    "print(unknown_values)"
   ]
  },
  {
   "cell_type": "code",
   "execution_count": 66,
   "metadata": {},
   "outputs": [],
   "source": [
    "##proportion of male, females and unknows in the top 10 companies\n",
    "total_values = [(male_values[i] + female_values[i]+ unknown_values[i]) for i in range(len(male_values))]\n",
    "total_values = np.array(total_values)"
   ]
  },
  {
   "cell_type": "code",
   "execution_count": 67,
   "metadata": {},
   "outputs": [
    {
     "data": {
      "image/png": "[encoded data removed]",
      "text/plain": [
       "<Figure size 432x288 with 1 Axes>"
      ]
     },
     "metadata": {
      "needs_background": "light"
     },
     "output_type": "display_data"
    }
   ],
   "source": [
    "#gender distribution with top 10 compnies with most patents \n",
    "\n",
    "male_values_np = np.array(male_values)\n",
    "female_values_np = np.array(female_values)\n",
    "unknown_values_np = np.array(unknown_values)\n",
    "\n",
    "fig = plt.figure()\n",
    "ax = fig.add_axes([0,0,1,1])\n",
    "graph1=ax.bar(list(dict_common.keys()), (male_values_np*100)/total_values, color = 'y', width = 0.25)\n",
    "graph2= ax.bar(list(dict_common.keys()), (female_values_np*100)/total_values, color = 'g', width = 0.25)\n",
    "graph3= ax.bar(list(dict_common.keys()), (unknown_values_np*100)/total_values, color = 'r', width = 0.25)\n",
    "plt.xticks(rotation=45, ha='right')\n",
    "plt.title(\"Top 10 companies with the most patents from 1970 to 2020\")\n",
    "plt.xlabel(\"Names of the Companies \")\n",
    "plt.ylabel(\"Proportion of males and females\")\n",
    "plt.legend([\"Male\",\"Female\",\"Unknown\"])\n",
    "plt.show()"
   ]
  },
  {
   "cell_type": "code",
   "execution_count": 68,
   "metadata": {},
   "outputs": [
    {
     "data": {
      "text/plain": [
       "array([4.79573712, 5.59701493, 5.57885906, 6.54369785, 5.39350578,\n",
       "       6.        , 6.34602538, 5.08591065, 6.4612326 , 5.47213031])"
      ]
     },
     "execution_count": 68,
     "metadata": {},
     "output_type": "execute_result"
    }
   ],
   "source": [
    "unknown_values_np*100/total_values"
   ]
  },
  {
   "cell_type": "code",
   "execution_count": 69,
   "metadata": {},
   "outputs": [
    {
     "data": {
      "text/plain": [
       "array([87.56660746, 86.02819237, 85.94798658, 86.64909969, 86.95652174,\n",
       "       85.48571429, 84.16833667, 87.90378007, 85.66931743, 86.53601425])"
      ]
     },
     "execution_count": 69,
     "metadata": {},
     "output_type": "execute_result"
    }
   ],
   "source": [
    "male_values_np*100/total_values"
   ]
  },
  {
   "cell_type": "code",
   "execution_count": 70,
   "metadata": {},
   "outputs": [
    {
     "data": {
      "text/plain": [
       "array([7.63765542, 8.3747927 , 8.47315436, 6.80720246, 7.64997248,\n",
       "       8.51428571, 9.48563794, 7.01030928, 7.86944997, 7.99185543])"
      ]
     },
     "execution_count": 70,
     "metadata": {},
     "output_type": "execute_result"
    }
   ],
   "source": [
    "female_values_np*100/total_values"
   ]
  },
  {
   "cell_type": "code",
   "execution_count": 86,
   "metadata": {},
   "outputs": [],
   "source": [
    "# w= df_final_.loc[df_final_['ee_name'] == 'MITSUBISHI']"
   ]
  },
  {
   "cell_type": "code",
   "execution_count": 87,
   "metadata": {},
   "outputs": [
    {
     "data": {
      "text/plain": [
       "application_number    0\n",
       "gender                0\n",
       "ee_name               0\n",
       "rf_id                 0\n",
       "exec_dt               0\n",
       "count                 0\n",
       "dtype: int64"
      ]
     },
     "execution_count": 87,
     "metadata": {},
     "output_type": "execute_result"
    }
   ],
   "source": [
    "# w= w.loc[df_final_['gender'] == 'nan'].count()\n",
    "# w"
   ]
  },
  {
   "cell_type": "code",
   "execution_count": null,
   "metadata": {},
   "outputs": [],
   "source": []
  }
 ],
 "metadata": {
  "accelerator": "GPU",
  "colab": {
   "collapsed_sections": [],
   "name": "spark",
   "provenance": []
  },
  "kernelspec": {
   "display_name": "Python 3",
   "language": "python",
   "name": "python3"
  },
  "language_info": {
   "codemirror_mode": {
    "name": "ipython",
    "version": 3
   },
   "file_extension": ".py",
   "mimetype": "text/x-python",
   "name": "python",
   "nbconvert_exporter": "python",
   "pygments_lexer": "ipython3",
   "version": "3.8.10"
  }
 },
 "nbformat": 4,
 "nbformat_minor": 1
}
